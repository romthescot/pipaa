{
 "cells": [
  {
   "cell_type": "code",
   "execution_count": 1,
   "metadata": {},
   "outputs": [],
   "source": [
    "import matplotlib.pyplot as plt\n",
    "import numpy as np\n",
    "from scipy.integrate import odeint"
   ]
  },
  {
   "cell_type": "code",
   "execution_count": 2,
   "metadata": {},
   "outputs": [],
   "source": [
    "def sectorDynamics(vx, t, B, M, P, alpha):\n",
    "\n",
    "    x, y = vx\n",
    "\n",
    "    #payoffMatrix\n",
    "    pm = [[B-M+ alpha, B-P-alpha, -M, 0],\n",
    "         [0, -P, 0, 0]]\n",
    "    \n",
    "     #fitness difference in the 3 sectors\n",
    "    airportsDiff  = y*(pm[0][0]-pm[1][0])+(1-y)*(pm[0][2]-pm[1][2])\n",
    "    airlinesDiff = x*(pm[0][1]-pm[0][3])+(1-x)*(pm[1][1]-pm[1][3])\n",
    "    \n",
    "    #replicator dynamics\n",
    "    x1 = x*(1-x)*((airportsDiff))\n",
    "    x2 = y*(1-y)*((airlinesDiff))\n",
    "\n",
    "    dxdt = [x1, x2]\n",
    "\n",
    "    return dxdt"
   ]
  },
  {
   "cell_type": "code",
   "execution_count": 16,
   "metadata": {},
   "outputs": [],
   "source": [
    "# initial conditions: 10% of each sector adopts \n",
    "x0 = [0.858, 0.5]\n",
    "\n",
    "t1 = np.linspace(0, 500, 100)\n",
    "sol1 = odeint(sectorDynamics, x0, t1, args=(1.49, 0.18, 0.12, 0.11))\n",
    "\n",
    "t2 = np.linspace(0, 500, 100)\n",
    "sol2 = odeint(sectorDynamics, x0, t2, args=(0.25, 0.18, 0.12, 0.11))\n",
    "\n",
    "t3 = np.linspace(0, 500, 100)\n",
    "sol3 = odeint(sectorDynamics, x0, t3, args=(0.25, 0.10, 0.13, 0.11))\n",
    "\n",
    "\n",
    "\n"
   ]
  },
  {
   "cell_type": "code",
   "execution_count": 17,
   "metadata": {},
   "outputs": [
    {
     "data": {
      "text/plain": [
       "Text(0.5, 1.0, 'Evolution of H2 strategy')"
      ]
     },
     "execution_count": 17,
     "metadata": {},
     "output_type": "execute_result"
    },
    {
     "data": {
      "image/png": "[encoded data removed]",
      "text/plain": [
       "<Figure size 432x288 with 3 Axes>"
      ]
     },
     "metadata": {
      "needs_background": "light"
     },
     "output_type": "display_data"
    }
   ],
   "source": [
    "#plot\n",
    "plt.subplot(221)\n",
    "plt.plot(t1, sol1[:, 0], 'b', label='airports')\n",
    "plt.plot(t1, sol1[:, 1], 'r', label='airlines')\n",
    "plt.xlabel('t')\n",
    "plt.legend(loc='best')\n",
    "plt.title('Evolution of H2 strategy (large benefit)')\n",
    "plt.subplots_adjust(wspace=0.5, hspace=0.5)\n",
    "\n",
    "\n",
    "plt.subplot(222)\n",
    "plt.plot(t2, sol2[:, 0], 'b', label='airports')\n",
    "plt.plot(t2, sol2[:, 1], 'r', label='airlines')\n",
    "plt.xlabel('t')\n",
    "plt.legend(loc='best')\n",
    "plt.title('Evolution of H2 strategy (small benefit, M>P)')\n",
    "\n",
    "plt.subplot(223)\n",
    "plt.plot(t2, sol2[:, 0], 'b', label='airports')\n",
    "plt.plot(t2, sol2[:, 1], 'r', label='airlines')\n",
    "plt.xlabel('t')\n",
    "plt.legend(loc='best')\n",
    "plt.title('Evolution of H2 strategy (small benefit, P>M)')\n"
   ]
  },
  {
   "cell_type": "code",
   "execution_count": null,
   "metadata": {},
   "outputs": [],
   "source": []
  }
 ],
 "metadata": {
  "kernelspec": {
   "display_name": "Python 3",
   "language": "python",
   "name": "python3"
  },
  "language_info": {
   "codemirror_mode": {
    "name": "ipython",
    "version": 3
   },
   "file_extension": ".py",
   "mimetype": "text/x-python",
   "name": "python",
   "nbconvert_exporter": "python",
   "pygments_lexer": "ipython3",
   "version": "3.7.1"
  }
 },
 "nbformat": 4,
 "nbformat_minor": 2
}
